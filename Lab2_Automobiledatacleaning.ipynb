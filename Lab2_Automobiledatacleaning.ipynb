{
 "cells": [
  {
   "cell_type": "markdown",
   "id": "a047bbff-16b1-4fa6-9053-be51d72f892e",
   "metadata": {},
   "source": [
    "# Lab-2 Activities\n",
    "\n",
    "# Perform data preprocesing for Automobile.csv\n",
    "\n",
    "# i. Delete the column horsepower since it has few missing values\n",
    "\n",
    "# ii. Impute missing with meadin\n",
    "\n",
    "# iii. Apply min-max scaling and standardization on the Automobiles.csv and provide the reasoning which feature scaling method make more sense to this dataset."
   ]
  },
  {
   "cell_type": "markdown",
   "id": "6afc3208-1ff4-4042-b78b-a0c295da274a",
   "metadata": {
    "id": "6afc3208-1ff4-4042-b78b-a0c295da274a"
   },
   "source": [
    "### Perform various data preprocessing techniques like handling missing data and feature scaling."
   ]
  },
  {
   "cell_type": "markdown",
   "id": "6eff2117-8474-49a1-b110-b2f24b7b6e13",
   "metadata": {
    "id": "6eff2117-8474-49a1-b110-b2f24b7b6e13"
   },
   "source": [
    "#### step 1: Start by importing the necessary Python libraries for data preprocessing.\n"
   ]
  },
  {
   "cell_type": "code",
   "execution_count": 9,
   "id": "e451344d-0f8e-46aa-9b43-ebb7e2addfbd",
   "metadata": {
    "id": "e451344d-0f8e-46aa-9b43-ebb7e2addfbd"
   },
   "outputs": [],
   "source": [
    "import pandas as pd\n",
    "import numpy as np\n",
    "from sklearn.preprocessing import StandardScaler, MinMaxScaler"
   ]
  },
  {
   "cell_type": "markdown",
   "id": "fac9560b-1b46-4e27-92aa-98098e292d23",
   "metadata": {
    "id": "fac9560b-1b46-4e27-92aa-98098e292d23"
   },
   "source": [
    "#### Step 2: Load the placement dataset into a Pandas Dataframe."
   ]
  },
  {
   "cell_type": "code",
   "execution_count": 38,
   "id": "9c82f185-426d-4d70-b74d-d06a11306492",
   "metadata": {
    "id": "9c82f185-426d-4d70-b74d-d06a11306492",
    "outputId": "0a3b6b38-139e-414b-d690-70d9e278db05"
   },
   "outputs": [
    {
     "name": "stdout",
     "output_type": "stream",
     "text": [
      "                            mpg  cylinders  displacement  horsepower  weight  \\\n",
      "name                                                                           \n",
      "chevrolet chevelle malibu  18.0        8.0         307.0       130.0  3504.0   \n",
      "buick skylark 320          15.0        8.0         350.0       165.0  3693.0   \n",
      "plymouth satellite         18.0        8.0         318.0       150.0  3436.0   \n",
      "amc rebel sst              16.0        8.0         304.0       150.0  3433.0   \n",
      "ford torino                17.0        NaN         302.0       140.0  3449.0   \n",
      "...                         ...        ...           ...         ...     ...   \n",
      "ford mustang gl            27.0        4.0         140.0        86.0  2790.0   \n",
      "vw pickup                  44.0        4.0          97.0        52.0  2130.0   \n",
      "dodge rampage              32.0        4.0         135.0        84.0  2295.0   \n",
      "ford ranger                28.0        4.0         120.0        79.0  2625.0   \n",
      "chevy s-10                 31.0        4.0         119.0        82.0  2720.0   \n",
      "\n",
      "                           acceleration  model_year  origin  \n",
      "name                                                         \n",
      "chevrolet chevelle malibu          12.0          70     usa  \n",
      "buick skylark 320                  11.5          70     usa  \n",
      "plymouth satellite                 11.0          70     usa  \n",
      "amc rebel sst                      12.0          70     usa  \n",
      "ford torino                        10.5          70     usa  \n",
      "...                                 ...         ...     ...  \n",
      "ford mustang gl                    15.6          82     usa  \n",
      "vw pickup                          24.6          82  europe  \n",
      "dodge rampage                      11.6          82     usa  \n",
      "ford ranger                        18.6          82     usa  \n",
      "chevy s-10                         19.4          82     usa  \n",
      "\n",
      "[398 rows x 8 columns]\n"
     ]
    }
   ],
   "source": [
    "df = pd.read_csv(\"Automobile.csv\",index_col=0)\n",
    "print(df)"
   ]
  },
  {
   "cell_type": "markdown",
   "id": "28b184ae-6e01-44d7-829d-11b3e9f0375f",
   "metadata": {
    "id": "28b184ae-6e01-44d7-829d-11b3e9f0375f"
   },
   "source": [
    "#### Step 3:Take a quick look at the data to understand its structure and identify any missing values or anomalies."
   ]
  },
  {
   "cell_type": "code",
   "execution_count": 46,
   "id": "8aceae47-8c25-4b9e-b77d-c902b464458f",
   "metadata": {
    "id": "8aceae47-8c25-4b9e-b77d-c902b464458f",
    "outputId": "504eb27e-aa95-4b97-9b95-741f76f27f7d"
   },
   "outputs": [
    {
     "name": "stdout",
     "output_type": "stream",
     "text": [
      "<class 'pandas.core.frame.DataFrame'>\n",
      "Index: 398 entries, chevrolet chevelle malibu to chevy s-10\n",
      "Data columns (total 8 columns):\n",
      " #   Column        Non-Null Count  Dtype  \n",
      "---  ------        --------------  -----  \n",
      " 0   mpg           398 non-null    float64\n",
      " 1   cylinders     395 non-null    float64\n",
      " 2   displacement  395 non-null    float64\n",
      " 3   horsepower    386 non-null    float64\n",
      " 4   weight        396 non-null    float64\n",
      " 5   acceleration  395 non-null    float64\n",
      " 6   model_year    398 non-null    int64  \n",
      " 7   origin        398 non-null    object \n",
      "dtypes: float64(6), int64(1), object(1)\n",
      "memory usage: 28.0+ KB\n",
      "\n",
      "                            mpg  cylinders  displacement  horsepower  weight  \\\n",
      "name                                                                           \n",
      "chevrolet chevelle malibu  18.0        8.0         307.0       130.0  3504.0   \n",
      "buick skylark 320          15.0        8.0         350.0       165.0  3693.0   \n",
      "plymouth satellite         18.0        8.0         318.0       150.0  3436.0   \n",
      "amc rebel sst              16.0        8.0         304.0       150.0  3433.0   \n",
      "ford torino                17.0        NaN         302.0       140.0  3449.0   \n",
      "\n",
      "                           acceleration  model_year origin  \n",
      "name                                                        \n",
      "chevrolet chevelle malibu          12.0          70    usa  \n",
      "buick skylark 320                  11.5          70    usa  \n",
      "plymouth satellite                 11.0          70    usa  \n",
      "amc rebel sst                      12.0          70    usa  \n",
      "ford torino                        10.5          70    usa  \n"
     ]
    },
    {
     "data": {
      "text/plain": [
       "(398, 8)"
      ]
     },
     "execution_count": 46,
     "metadata": {},
     "output_type": "execute_result"
    }
   ],
   "source": [
    "df.info()\n",
    "print()\n",
    "print(df.head())\n",
    "df.shape"
   ]
  },
  {
   "cell_type": "markdown",
   "id": "5e3199a3-53be-4b3e-8377-1a4f004464c7",
   "metadata": {
    "id": "5e3199a3-53be-4b3e-8377-1a4f004464c7"
   },
   "source": [
    "#### The method isnull() checks each element in the DataFrame (or Series) to see if it is NaN (Not a Number) or None (missing value).\n",
    "It returns a DataFrame (or Series) of the same shape as the input, with Boolean values:\n",
    "#### True: The value is null (NaN or None).\n",
    "#### False: The value is not null."
   ]
  },
  {
   "cell_type": "code",
   "execution_count": 48,
   "id": "e39c2d2f-5d43-47b5-9a55-a6d7de8042b4",
   "metadata": {
    "id": "e39c2d2f-5d43-47b5-9a55-a6d7de8042b4",
    "outputId": "05454768-917f-4c8a-f934-22c665a59cb1"
   },
   "outputs": [
    {
     "name": "stdout",
     "output_type": "stream",
     "text": [
      "                             mpg  cylinders  displacement  horsepower  weight  \\\n",
      "name                                                                            \n",
      "chevrolet chevelle malibu  False      False         False       False   False   \n",
      "buick skylark 320          False      False         False       False   False   \n",
      "plymouth satellite         False      False         False       False   False   \n",
      "amc rebel sst              False      False         False       False   False   \n",
      "ford torino                False       True         False       False   False   \n",
      "...                          ...        ...           ...         ...     ...   \n",
      "ford mustang gl            False      False         False       False   False   \n",
      "vw pickup                  False      False         False       False   False   \n",
      "dodge rampage              False      False         False       False   False   \n",
      "ford ranger                False      False         False       False   False   \n",
      "chevy s-10                 False      False         False       False   False   \n",
      "\n",
      "                           acceleration  model_year  origin  \n",
      "name                                                         \n",
      "chevrolet chevelle malibu         False       False   False  \n",
      "buick skylark 320                 False       False   False  \n",
      "plymouth satellite                False       False   False  \n",
      "amc rebel sst                     False       False   False  \n",
      "ford torino                       False       False   False  \n",
      "...                                 ...         ...     ...  \n",
      "ford mustang gl                   False       False   False  \n",
      "vw pickup                         False       False   False  \n",
      "dodge rampage                     False       False   False  \n",
      "ford ranger                       False       False   False  \n",
      "chevy s-10                        False       False   False  \n",
      "\n",
      "[398 rows x 8 columns]\n"
     ]
    },
    {
     "data": {
      "text/plain": [
       "mpg              0\n",
       "cylinders        3\n",
       "displacement     3\n",
       "horsepower      12\n",
       "weight           2\n",
       "acceleration     3\n",
       "model_year       0\n",
       "origin           0\n",
       "dtype: int64"
      ]
     },
     "execution_count": 48,
     "metadata": {},
     "output_type": "execute_result"
    }
   ],
   "source": [
    "print(df.isnull())\n",
    "df.isnull().sum()"
   ]
  },
  {
   "cell_type": "markdown",
   "id": "a9eab167-59db-444c-914b-babf9b4787b4",
   "metadata": {
    "id": "a9eab167-59db-444c-914b-babf9b4787b4"
   },
   "source": [
    "#### Step 4: Handle Missing Data\n",
    "#### Option 1: If the dataset is large and only a small percentage of data is missing, you can remove rows with missing values using dropna(subset,inplace)\n"
   ]
  },
  {
   "cell_type": "code",
   "execution_count": 50,
   "id": "4f2b7dd2-f510-4845-81e9-0490a1067a0b",
   "metadata": {
    "id": "4f2b7dd2-f510-4845-81e9-0490a1067a0b",
    "outputId": "6106dfa3-8279-4666-fa60-43453e810a11"
   },
   "outputs": [
    {
     "name": "stdout",
     "output_type": "stream",
     "text": [
      "                            mpg  cylinders  displacement  horsepower  weight  \\\n",
      "name                                                                           \n",
      "chevrolet chevelle malibu  18.0        8.0         307.0       130.0  3504.0   \n",
      "buick skylark 320          15.0        8.0         350.0       165.0  3693.0   \n",
      "plymouth satellite         18.0        8.0         318.0       150.0  3436.0   \n",
      "amc rebel sst              16.0        8.0         304.0       150.0  3433.0   \n",
      "ford torino                17.0        NaN         302.0       140.0  3449.0   \n",
      "...                         ...        ...           ...         ...     ...   \n",
      "ford mustang gl            27.0        4.0         140.0        86.0  2790.0   \n",
      "vw pickup                  44.0        4.0          97.0        52.0  2130.0   \n",
      "dodge rampage              32.0        4.0         135.0        84.0  2295.0   \n",
      "ford ranger                28.0        4.0         120.0        79.0  2625.0   \n",
      "chevy s-10                 31.0        4.0         119.0        82.0  2720.0   \n",
      "\n",
      "                           acceleration  model_year  origin  \n",
      "name                                                         \n",
      "chevrolet chevelle malibu          12.0          70     usa  \n",
      "buick skylark 320                  11.5          70     usa  \n",
      "plymouth satellite                 11.0          70     usa  \n",
      "amc rebel sst                      12.0          70     usa  \n",
      "ford torino                        10.5          70     usa  \n",
      "...                                 ...         ...     ...  \n",
      "ford mustang gl                    15.6          82     usa  \n",
      "vw pickup                          24.6          82  europe  \n",
      "dodge rampage                      11.6          82     usa  \n",
      "ford ranger                        18.6          82     usa  \n",
      "chevy s-10                         19.4          82     usa  \n",
      "\n",
      "[386 rows x 8 columns]\n"
     ]
    }
   ],
   "source": [
    "print(df.dropna(subset=[\"horsepower\"],inplace=False))\n",
    "df.dropna(subset=[\"horsepower\"],inplace=True)"
   ]
  },
  {
   "cell_type": "code",
   "execution_count": 52,
   "id": "26d22180-fac9-41f3-acfa-62152557fc43",
   "metadata": {},
   "outputs": [
    {
     "name": "stdout",
     "output_type": "stream",
     "text": [
      "<class 'pandas.core.frame.DataFrame'>\n",
      "Index: 386 entries, chevrolet chevelle malibu to chevy s-10\n",
      "Data columns (total 8 columns):\n",
      " #   Column        Non-Null Count  Dtype  \n",
      "---  ------        --------------  -----  \n",
      " 0   mpg           386 non-null    float64\n",
      " 1   cylinders     383 non-null    float64\n",
      " 2   displacement  383 non-null    float64\n",
      " 3   horsepower    386 non-null    float64\n",
      " 4   weight        384 non-null    float64\n",
      " 5   acceleration  384 non-null    float64\n",
      " 6   model_year    386 non-null    int64  \n",
      " 7   origin        386 non-null    object \n",
      "dtypes: float64(6), int64(1), object(1)\n",
      "memory usage: 27.1+ KB\n",
      "None\n",
      "\n",
      "mpg             0\n",
      "cylinders       3\n",
      "displacement    3\n",
      "horsepower      0\n",
      "weight          2\n",
      "acceleration    2\n",
      "model_year      0\n",
      "origin          0\n",
      "dtype: int64\n"
     ]
    }
   ],
   "source": [
    "print(df.info())\n",
    "print()\n",
    "print(df.isnull().sum())"
   ]
  },
  {
   "cell_type": "code",
   "execution_count": 54,
   "id": "dedc37f3-608b-4c47-85cc-10c28d140c33",
   "metadata": {},
   "outputs": [
    {
     "name": "stdout",
     "output_type": "stream",
     "text": [
      "mpg             0\n",
      "cylinders       0\n",
      "displacement    3\n",
      "horsepower      0\n",
      "weight          2\n",
      "acceleration    2\n",
      "model_year      0\n",
      "origin          0\n",
      "dtype: int64\n"
     ]
    }
   ],
   "source": [
    "df.dropna(subset=[\"cylinders\"],inplace=True)\n",
    "print(df.isnull().sum())"
   ]
  },
  {
   "cell_type": "markdown",
   "id": "a1225761-3c2c-42ad-bac1-967483ea586c",
   "metadata": {
    "id": "a1225761-3c2c-42ad-bac1-967483ea586c"
   },
   "source": [
    "#### Option 2:If removing data isn't ideal, you can impute (df.[\"\"].fillna(df[\"\"].mean(),inplace)) missing values using methods like mean, median, or most frequent."
   ]
  },
  {
   "cell_type": "code",
   "execution_count": 62,
   "id": "8f07f657-0e3d-488f-9d75-495a427483b1",
   "metadata": {
    "id": "8f07f657-0e3d-488f-9d75-495a427483b1",
    "outputId": "e7853abc-0ee2-49a6-ffa8-b9f4a1d647f0"
   },
   "outputs": [
    {
     "name": "stdout",
     "output_type": "stream",
     "text": [
      "<class 'pandas.core.frame.DataFrame'>\n",
      "Index: 383 entries, chevrolet chevelle malibu to chevy s-10\n",
      "Data columns (total 8 columns):\n",
      " #   Column        Non-Null Count  Dtype  \n",
      "---  ------        --------------  -----  \n",
      " 0   mpg           383 non-null    float64\n",
      " 1   cylinders     383 non-null    float64\n",
      " 2   displacement  383 non-null    float64\n",
      " 3   horsepower    383 non-null    float64\n",
      " 4   weight        383 non-null    float64\n",
      " 5   acceleration  383 non-null    float64\n",
      " 6   model_year    383 non-null    int64  \n",
      " 7   origin        383 non-null    object \n",
      "dtypes: float64(6), int64(1), object(1)\n",
      "memory usage: 26.9+ KB\n",
      "None\n",
      "                            mpg  cylinders  displacement  horsepower  weight  \\\n",
      "name                                                                           \n",
      "chevrolet chevelle malibu  18.0        8.0         307.0       130.0  3504.0   \n",
      "buick skylark 320          15.0        8.0         350.0       165.0  3693.0   \n",
      "plymouth satellite         18.0        8.0         318.0       150.0  3436.0   \n",
      "amc rebel sst              16.0        8.0         304.0       150.0  3433.0   \n",
      "ford galaxie 500           15.0        8.0         429.0       198.0  4341.0   \n",
      "...                         ...        ...           ...         ...     ...   \n",
      "ford mustang gl            27.0        4.0         140.0        86.0  2790.0   \n",
      "vw pickup                  44.0        4.0          97.0        52.0  2130.0   \n",
      "dodge rampage              32.0        4.0         135.0        84.0  2295.0   \n",
      "ford ranger                28.0        4.0         120.0        79.0  2625.0   \n",
      "chevy s-10                 31.0        4.0         119.0        82.0  2720.0   \n",
      "\n",
      "                           acceleration  model_year  origin  \n",
      "name                                                         \n",
      "chevrolet chevelle malibu          12.0          70     usa  \n",
      "buick skylark 320                  11.5          70     usa  \n",
      "plymouth satellite                 11.0          70     usa  \n",
      "amc rebel sst                      12.0          70     usa  \n",
      "ford galaxie 500                   10.0          70     usa  \n",
      "...                                 ...         ...     ...  \n",
      "ford mustang gl                    15.6          82     usa  \n",
      "vw pickup                          24.6          82  europe  \n",
      "dodge rampage                      11.6          82     usa  \n",
      "ford ranger                        18.6          82     usa  \n",
      "chevy s-10                         19.4          82     usa  \n",
      "\n",
      "[383 rows x 8 columns]\n"
     ]
    },
    {
     "name": "stderr",
     "output_type": "stream",
     "text": [
      "C:\\Users\\priya\\AppData\\Local\\Temp\\ipykernel_59504\\4197977051.py:1: FutureWarning: A value is trying to be set on a copy of a DataFrame or Series through chained assignment using an inplace method.\n",
      "The behavior will change in pandas 3.0. This inplace method will never work because the intermediate object on which we are setting values always behaves as a copy.\n",
      "\n",
      "For example, when doing 'df[col].method(value, inplace=True)', try using 'df.method({col: value}, inplace=True)' or df[col] = df[col].method(value) instead, to perform the operation inplace on the original object.\n",
      "\n",
      "\n",
      "  df[\"displacement\"].fillna(df[\"displacement\"].mean(), inplace=True)\n",
      "C:\\Users\\priya\\AppData\\Local\\Temp\\ipykernel_59504\\4197977051.py:2: FutureWarning: A value is trying to be set on a copy of a DataFrame or Series through chained assignment using an inplace method.\n",
      "The behavior will change in pandas 3.0. This inplace method will never work because the intermediate object on which we are setting values always behaves as a copy.\n",
      "\n",
      "For example, when doing 'df[col].method(value, inplace=True)', try using 'df.method({col: value}, inplace=True)' or df[col] = df[col].method(value) instead, to perform the operation inplace on the original object.\n",
      "\n",
      "\n",
      "  df[\"weight\"].fillna(df[\"weight\"].mean(), inplace=True)\n",
      "C:\\Users\\priya\\AppData\\Local\\Temp\\ipykernel_59504\\4197977051.py:3: FutureWarning: A value is trying to be set on a copy of a DataFrame or Series through chained assignment using an inplace method.\n",
      "The behavior will change in pandas 3.0. This inplace method will never work because the intermediate object on which we are setting values always behaves as a copy.\n",
      "\n",
      "For example, when doing 'df[col].method(value, inplace=True)', try using 'df.method({col: value}, inplace=True)' or df[col] = df[col].method(value) instead, to perform the operation inplace on the original object.\n",
      "\n",
      "\n",
      "  df[\"acceleration\"].fillna(df[\"acceleration\"].mean(), inplace=True)\n"
     ]
    }
   ],
   "source": [
    "df[\"displacement\"].fillna(df[\"displacement\"].mean(), inplace=True)\n",
    "df[\"weight\"].fillna(df[\"weight\"].mean(), inplace=True)\n",
    "df[\"acceleration\"].fillna(df[\"acceleration\"].mean(), inplace=True)\n",
    "print(df.info())\n",
    "print(df)\n"
   ]
  },
  {
   "cell_type": "markdown",
   "id": "8e4b6c14-986c-4657-ac53-c0798f8ff58c",
   "metadata": {},
   "source": [
    "## Standardising Data and Feature Scaling\n",
    "- As only numeric values can be standardised for the model to input, only mpg, displacement, horsepower, weight, acceleration column will be standardised.\n",
    "- The Min-Max Scaling makes sure there are no outlires in the data which is more suitable for Standrdsising."
   ]
  },
  {
   "cell_type": "markdown",
   "id": "2edcbe50-a598-4d95-9245-124563d11103",
   "metadata": {
    "id": "2edcbe50-a598-4d95-9245-124563d11103"
   },
   "source": [
    "#### Step 5: Feature Scaling\n",
    "\n",
    "\n",
    "<img src=\"https://i.postimg.cc/G21gMYnF/f.png\" alt=\"Image Description\" width=\"500\">\n",
    "\n",
    "\n",
    "\n",
    "\n",
    "\n",
    "\n",
    "\n",
    "\n",
    "\n",
    " Option 1: This method scales the data to have a mean of 0 and a standard deviation of 1.\n",
    "### StandardScaler()"
   ]
  },
  {
   "cell_type": "code",
   "execution_count": 66,
   "id": "efd8eb42-ccf7-4867-9772-d914b3504b39",
   "metadata": {
    "id": "efd8eb42-ccf7-4867-9772-d914b3504b39",
    "outputId": "cafbc0e6-cf27-45ae-b4dd-f4ed0ba57155"
   },
   "outputs": [
    {
     "data": {
      "text/plain": [
       "<bound method NDFrame.head of                                 mpg  cylinders  displacement  horsepower  \\\n",
       "name                                                                       \n",
       "chevrolet chevelle malibu -0.703621        8.0      1.101084    0.678741   \n",
       "buick skylark 320         -1.087451        8.0      1.517044    1.598805   \n",
       "plymouth satellite        -0.703621        8.0      1.207493    1.204492   \n",
       "amc rebel sst             -0.959507        8.0      1.072064    1.204492   \n",
       "ford galaxie 500          -1.087451        8.0      2.281249    2.466294   \n",
       "...                             ...        ...           ...         ...   \n",
       "ford mustang gl            0.447868        4.0     -0.514388   -0.477912   \n",
       "vw pickup                  2.622903        4.0     -0.930347   -1.371689   \n",
       "dodge rampage              1.087584        4.0     -0.562755   -0.530487   \n",
       "ford ranger                0.575811        4.0     -0.707857   -0.661925   \n",
       "chevy s-10                 0.959641        4.0     -0.717531   -0.583062   \n",
       "\n",
       "                             weight  acceleration  model_year  origin  \n",
       "name                                                                   \n",
       "chevrolet chevelle malibu  0.634807     -1.316344          70     usa  \n",
       "buick skylark 320          0.859074     -1.500783          70     usa  \n",
       "plymouth satellite         0.554118     -1.685222          70     usa  \n",
       "amc rebel sst              0.550559     -1.316344          70     usa  \n",
       "ford galaxie 500           1.627988     -2.054101          70     usa  \n",
       "...                             ...           ...         ...     ...  \n",
       "ford mustang gl           -0.212422      0.011618          82     usa  \n",
       "vw pickup                 -0.995576      3.331523          82  europe  \n",
       "dodge rampage             -0.799787     -1.463895          82     usa  \n",
       "ford ranger               -0.408211      1.118253          82     usa  \n",
       "chevy s-10                -0.295484      1.413356          82     usa  \n",
       "\n",
       "[383 rows x 8 columns]>"
      ]
     },
     "execution_count": 66,
     "metadata": {},
     "output_type": "execute_result"
    }
   ],
   "source": [
    "c = ['mpg', 'displacement', 'horsepower', 'weight', 'acceleration']\n",
    "sc1 = StandardScaler()\n",
    "df[c]=sc1.fit_transform(df[c])\n",
    "df.head"
   ]
  },
  {
   "cell_type": "markdown",
   "id": "d8974447-b707-4b00-bc1b-f395c6167345",
   "metadata": {
    "id": "d8974447-b707-4b00-bc1b-f395c6167345"
   },
   "source": [
    "#### Option 2:This method scales the data to a fixed range, usually between 0 and 1. \n",
    "###  MinMaxScaler()"
   ]
  },
  {
   "cell_type": "code",
   "execution_count": 68,
   "id": "c446eae2-f4af-4ab1-8b43-0e347581e9a8",
   "metadata": {
    "id": "c446eae2-f4af-4ab1-8b43-0e347581e9a8",
    "outputId": "5951acaf-3dc0-48f5-a6d8-0212ee4970ee"
   },
   "outputs": [
    {
     "data": {
      "text/plain": [
       "<bound method NDFrame.head of                                 mpg  cylinders  displacement  horsepower  \\\n",
       "name                                                                       \n",
       "chevrolet chevelle malibu  0.239362        8.0      0.617571    0.456522   \n",
       "buick skylark 320          0.159574        8.0      0.728682    0.646739   \n",
       "plymouth satellite         0.239362        8.0      0.645995    0.565217   \n",
       "amc rebel sst              0.186170        8.0      0.609819    0.565217   \n",
       "ford galaxie 500           0.159574        8.0      0.932817    0.826087   \n",
       "...                             ...        ...           ...         ...   \n",
       "ford mustang gl            0.478723        4.0      0.186047    0.217391   \n",
       "vw pickup                  0.930851        4.0      0.074935    0.032609   \n",
       "dodge rampage              0.611702        4.0      0.173127    0.206522   \n",
       "ford ranger                0.505319        4.0      0.134367    0.179348   \n",
       "chevy s-10                 0.585106        4.0      0.131783    0.195652   \n",
       "\n",
       "                             weight  acceleration  model_year  origin  \n",
       "name                                                                   \n",
       "chevrolet chevelle malibu  0.536150      0.238095          70     usa  \n",
       "buick skylark 320          0.589736      0.208333          70     usa  \n",
       "plymouth satellite         0.516870      0.178571          70     usa  \n",
       "amc rebel sst              0.516019      0.238095          70     usa  \n",
       "ford galaxie 500           0.773462      0.119048          70     usa  \n",
       "...                             ...           ...         ...     ...  \n",
       "ford mustang gl            0.333711      0.452381          82     usa  \n",
       "vw pickup                  0.146583      0.988095          82  europe  \n",
       "dodge rampage              0.193365      0.214286          82     usa  \n",
       "ford ranger                0.286929      0.630952          82     usa  \n",
       "chevy s-10                 0.313864      0.678571          82     usa  \n",
       "\n",
       "[383 rows x 8 columns]>"
      ]
     },
     "execution_count": 68,
     "metadata": {},
     "output_type": "execute_result"
    }
   ],
   "source": [
    "sc2=MinMaxScaler()\n",
    "df[c]=sc2.fit_transform(df[c])\n",
    "df.head"
   ]
  },
  {
   "cell_type": "markdown",
   "id": "7b341c0e-7aa3-48c3-84c4-9ef8a5139fad",
   "metadata": {
    "id": "7b341c0e-7aa3-48c3-84c4-9ef8a5139fad"
   },
   "source": [
    "####  Step 6:Separate the dataset into features (X) and target (y) variables. The target is usually the column you want to predict."
   ]
  },
  {
   "cell_type": "code",
   "execution_count": 77,
   "id": "3b19d23c-5efe-4615-8c4d-63d435d94b25",
   "metadata": {
    "id": "3b19d23c-5efe-4615-8c4d-63d435d94b25"
   },
   "outputs": [
    {
     "data": {
      "text/html": [
       "<div>\n",
       "<style scoped>\n",
       "    .dataframe tbody tr th:only-of-type {\n",
       "        vertical-align: middle;\n",
       "    }\n",
       "\n",
       "    .dataframe tbody tr th {\n",
       "        vertical-align: top;\n",
       "    }\n",
       "\n",
       "    .dataframe thead th {\n",
       "        text-align: right;\n",
       "    }\n",
       "</style>\n",
       "<table border=\"1\" class=\"dataframe\">\n",
       "  <thead>\n",
       "    <tr style=\"text-align: right;\">\n",
       "      <th></th>\n",
       "      <th>horsepower</th>\n",
       "    </tr>\n",
       "    <tr>\n",
       "      <th>name</th>\n",
       "      <th></th>\n",
       "    </tr>\n",
       "  </thead>\n",
       "  <tbody>\n",
       "    <tr>\n",
       "      <th>chevrolet chevelle malibu</th>\n",
       "      <td>0.456522</td>\n",
       "    </tr>\n",
       "    <tr>\n",
       "      <th>buick skylark 320</th>\n",
       "      <td>0.646739</td>\n",
       "    </tr>\n",
       "    <tr>\n",
       "      <th>plymouth satellite</th>\n",
       "      <td>0.565217</td>\n",
       "    </tr>\n",
       "    <tr>\n",
       "      <th>amc rebel sst</th>\n",
       "      <td>0.565217</td>\n",
       "    </tr>\n",
       "    <tr>\n",
       "      <th>ford galaxie 500</th>\n",
       "      <td>0.826087</td>\n",
       "    </tr>\n",
       "  </tbody>\n",
       "</table>\n",
       "</div>"
      ],
      "text/plain": [
       "                           horsepower\n",
       "name                                 \n",
       "chevrolet chevelle malibu    0.456522\n",
       "buick skylark 320            0.646739\n",
       "plymouth satellite           0.565217\n",
       "amc rebel sst                0.565217\n",
       "ford galaxie 500             0.826087"
      ]
     },
     "execution_count": 77,
     "metadata": {},
     "output_type": "execute_result"
    }
   ],
   "source": [
    "x=df[[\"mpg\",\"cylinders\",\"displacement\",\"weight\",\"acceleration\"]]\n",
    "y=df[[\"horsepower\"]]\n",
    "y.head()"
   ]
  },
  {
   "cell_type": "markdown",
   "id": "88524422-4dcc-4cb0-9cb7-d9b4d8ab851a",
   "metadata": {
    "id": "88524422-4dcc-4cb0-9cb7-d9b4d8ab851a"
   },
   "source": [
    "\n",
    "### Step 7: After preprocessing, save the cleaned and scaled dataset to a new CSV file\n"
   ]
  },
  {
   "cell_type": "code",
   "execution_count": 87,
   "id": "3c02c20c-820b-4656-a1cb-7f456e562fce",
   "metadata": {},
   "outputs": [],
   "source": [
    "final = pd.concat([x,y],axis=1)\n",
    "final.to_csv(\"cleaned_automobile_data.csv\",index=False)"
   ]
  }
 ],
 "metadata": {
  "colab": {
   "provenance": []
  },
  "kernelspec": {
   "display_name": "Python 3 (ipykernel)",
   "language": "python",
   "name": "python3"
  },
  "language_info": {
   "codemirror_mode": {
    "name": "ipython",
    "version": 3
   },
   "file_extension": ".py",
   "mimetype": "text/x-python",
   "name": "python",
   "nbconvert_exporter": "python",
   "pygments_lexer": "ipython3",
   "version": "3.12.4"
  }
 },
 "nbformat": 4,
 "nbformat_minor": 5
}
